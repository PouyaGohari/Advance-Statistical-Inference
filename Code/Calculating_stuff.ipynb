{
 "cells": [
  {
   "cell_type": "code",
   "execution_count": 8,
   "metadata": {},
   "outputs": [],
   "source": [
    "import numpy as np"
   ]
  },
  {
   "cell_type": "markdown",
   "metadata": {},
   "source": [
    "### Question 2"
   ]
  },
  {
   "cell_type": "code",
   "execution_count": 9,
   "metadata": {},
   "outputs": [
    {
     "name": "stdout",
     "output_type": "stream",
     "text": [
      "560.1999999999999\n"
     ]
    }
   ],
   "source": [
    "x = [\n",
    "    [20, 24, 28, 42],\n",
    "    [32, 36, 36, 30],\n",
    "    [38, 28, 31, 39],\n",
    "    [28, 28, 32, 28],\n",
    "    [25, 33, 27, 29]\n",
    "]\n",
    "x = np.array(x)\n",
    "mean = x.mean()\n",
    "ss_total = ((x - mean)**2).sum()\n",
    "print(ss_total)"
   ]
  },
  {
   "cell_type": "code",
   "execution_count": 10,
   "metadata": {},
   "outputs": [
    {
     "name": "stdout",
     "output_type": "stream",
     "text": [
      "33.6\n",
      "30.8\n",
      "29.8\n",
      "28.6\n",
      "492.0\n",
      "68.2\n"
     ]
    }
   ],
   "source": [
    "brand_d = [x[i][0] for i in range(5)]\n",
    "brand_c = [x[i][1] for i in range(5)]\n",
    "brand_b = [x[i][2] for i in range(5)]\n",
    "brand_a = [x[i][3] for i in range(5)]\n",
    "whole_brand = [brand_a, brand_b, brand_c, brand_d]\n",
    "whole_brand = np.array(whole_brand)\n",
    "ss_within = 0\n",
    "for i in range(len(whole_brand)):\n",
    "    ss_within += ((whole_brand[i]-whole_brand[i].mean())**2).sum()\n",
    "print(ss_within)\n",
    "ss_between = 0\n",
    "for i in range(len(whole_brand)):\n",
    "    ss_between += (whole_brand[i].mean()-mean)**2\n",
    "ss_between *= 5\n",
    "print(ss_between)"
   ]
  },
  {
   "cell_type": "code",
   "execution_count": 11,
   "metadata": {},
   "outputs": [
    {
     "name": "stdout",
     "output_type": "stream",
     "text": [
      "0.5544715447154471\n"
     ]
    }
   ],
   "source": [
    "f_stats = (ss_between/3)/(ss_within/(3*4))\n",
    "print(f_stats)"
   ]
  },
  {
   "cell_type": "markdown",
   "metadata": {},
   "source": [
    "### Question 4"
   ]
  },
  {
   "cell_type": "code",
   "execution_count": 12,
   "metadata": {},
   "outputs": [
    {
     "name": "stdout",
     "output_type": "stream",
     "text": [
      "[0.005 0.009 0.019 0.022 0.051 0.101 0.361 0.387]\n"
     ]
    }
   ],
   "source": [
    "x = [0.361, 0.387, 0.005, 0.009, 0.022, 0.051, 0.101, 0.019]\n",
    "x = np.array(x) \n",
    "x = np.sort(x)\n",
    "print(x)"
   ]
  },
  {
   "cell_type": "markdown",
   "metadata": {},
   "source": [
    "### Question 9"
   ]
  },
  {
   "cell_type": "code",
   "execution_count": 13,
   "metadata": {},
   "outputs": [
    {
     "name": "stdout",
     "output_type": "stream",
     "text": [
      "2.23\n",
      "4.79\n",
      "108.969\n",
      "21.561\n",
      "48.142999999999994\n",
      "338.41\n",
      "0.29120355330415076\n"
     ]
    }
   ],
   "source": [
    "x = [2.5, 8.7, 1.2, 7.9, 0.8, 5.3, 4.1, 7.4, 9.6, 0.4]\n",
    "y = [1.3, 3.9, 0.6, 3.9, 0.5, 2.4, 2.1, 3.0, 4.4, 0.2]\n",
    "x = np.array(x)\n",
    "y = np.array(y)\n",
    "print(y.mean())\n",
    "print(x.mean())\n",
    "print(((x-x.mean())**2).sum())\n",
    "print(((y-y.mean())**2).sum())\n",
    "print(((x-x.mean())*(y - y.mean())).sum())\n",
    "print((x**2).sum())\n",
    "\n",
    "B_1 = 0.44180455\n",
    "B_0 = 0.113756205\n",
    "y_hat = B_0 + B_1*x\n",
    "print(((y_hat - y)**2).sum())"
   ]
  },
  {
   "cell_type": "code",
   "execution_count": null,
   "metadata": {},
   "outputs": [],
   "source": []
  }
 ],
 "metadata": {
  "kernelspec": {
   "display_name": "base",
   "language": "python",
   "name": "python3"
  },
  "language_info": {
   "codemirror_mode": {
    "name": "ipython",
    "version": 3
   },
   "file_extension": ".py",
   "mimetype": "text/x-python",
   "name": "python",
   "nbconvert_exporter": "python",
   "pygments_lexer": "ipython3",
   "version": "3.11.5"
  }
 },
 "nbformat": 4,
 "nbformat_minor": 2
}
